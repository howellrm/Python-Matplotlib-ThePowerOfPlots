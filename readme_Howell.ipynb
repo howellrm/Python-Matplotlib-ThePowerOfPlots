{
 "cells": [
  {
   "cell_type": "markdown",
   "metadata": {},
   "source": [
    "<h1> Unit 5 | Assignment - The Power of Plots </h1>\n",
    "\n",
    "Background:\n",
    "What good is data without a good plot to tell the story?\n",
    "\n",
    "So, let's take what you've learned about Python Matplotlib and apply it to some real-world situations. For this assignment, you'll need to complete **1 of 2** Data Challenges. As always, it's your choice which you complete. _Perhaps_, choose the one most relevant to your future career.\n",
    "\n",
    "<b>Option 1: Pyber</b>\n",
    "\n",
    "The ride sharing bonanza continues! Seeing the success of notable players like Uber and Lyft, you've decided to join a fledgling ride sharing company of your own. In your latest capacity, you'll be acting as Chief Data Strategist for the company. In this role, you'll be expected to offer data-backed guidance on new opportunities for market differentiation.\n",
    "\n",
    "You've since been given access to the company's complete recordset of rides. This contains information about every active driver and historic ride, including details like city, driver count, individual fares, and city type."
   ]
  },
  {
   "cell_type": "markdown",
   "metadata": {},
   "source": [
    "<h4>Hints and Considerations</h4>\n",
    "\n",
    "<ul>\n",
    "<li>Be warned: These are very challenging tasks. Be patient with yourself as you trudge through these problems. They will take time and there is no shame in fumbling along the way. Data visualization is equal parts exploration, equal parts resolution.</li>\n",
    "<br>\n",
    "\n",
    "<li>Between these two exercises, the Pymaceuticals one is significantly more challenging. So choose that one only if you feel somewhat comfortable with the material covered so far. The Pymaceuticals example _will_ require you to research a good bit on your own for hacked solutions to problems you'll experience along the way. If you end up choosing this exercise, feel encouraged to constantly refer back to Stack Overflow and the Pandas Documentation. These are needed tools in every data analyst's arsenl.</li>\n",
    "<br>\n",
    "\n",
    "<li>Don't get bogged down in small details. Always focus on the big picture. If you can't figure out how to get a label to show up correctly, come back to it. Focus on getting the core skeleton of your notebook complete. You can always re-visit old problems.</li>\n",
    "<br>\n",
    "\n",
    "<li>Remember: There are many ways to skin a cat, and similarly there are many ways to approach a data problem. The key throughout, however, is to break up your task into micro tasks. Try answering questions like: \"How does my Data Frame need to be structured for me to have the right X and Y axis?\" \"How do I build a basic scatter plot?\" \"How do I add a label to that scatter plot?\" \"Where would the labels for that scatter plot come from?\". Again! Don't let the magnitude of a programming task scare you off. Ultimately, every programming problem boils down to a handful of smaller, bite-sized tasks.</li>\n",
    "<br>\n",
    "\n",
    "<li>Get help when you need it! There is never any shame in asking. But as always, ask a _specific_ question. You'll never get a great answer to: \"I'm lost.\" Good luck!</li>\n",
    "</ul>\n"
   ]
  },
  {
   "cell_type": "markdown",
   "metadata": {},
   "source": [
    "<h4> Part One: Initial Set-Up</h4>\n",
    "\n",
    "<ul>\n",
    "    <li>Import Dependencies</li>\n",
    "    <li>Read in files</li>\n",
    "    <li>Save files to variable and convert to DataFrames</li>\n",
    "    </ul>"
   ]
  },
  {
   "cell_type": "code",
   "execution_count": 52,
   "metadata": {
    "collapsed": true
   },
   "outputs": [],
   "source": [
    "# Import your Dependencies\n",
    "import pandas as pd\n",
    "import numpy as np\n",
    "import matplotlib.pyplot as plt\n",
    "import seaborn as sns\n",
    "import os"
   ]
  },
  {
   "cell_type": "code",
   "execution_count": 53,
   "metadata": {},
   "outputs": [],
   "source": [
    "# Import files\n",
    "# Save files to variables\n",
    "# Use os.path.join \n",
    "\n",
    "city_file = os.path.join('raw_data', 'city_data.csv')\n",
    "ride_file = os.path.join('raw_data', 'ride_data.csv')"
   ]
  },
  {
   "cell_type": "code",
   "execution_count": 54,
   "metadata": {},
   "outputs": [
    {
     "data": {
      "text/html": [
       "<div>\n",
       "<style>\n",
       "    .dataframe thead tr:only-child th {\n",
       "        text-align: right;\n",
       "    }\n",
       "\n",
       "    .dataframe thead th {\n",
       "        text-align: left;\n",
       "    }\n",
       "\n",
       "    .dataframe tbody tr th {\n",
       "        vertical-align: top;\n",
       "    }\n",
       "</style>\n",
       "<table border=\"1\" class=\"dataframe\">\n",
       "  <thead>\n",
       "    <tr style=\"text-align: right;\">\n",
       "      <th></th>\n",
       "      <th>city</th>\n",
       "      <th>driver_count</th>\n",
       "      <th>type</th>\n",
       "    </tr>\n",
       "  </thead>\n",
       "  <tbody>\n",
       "    <tr>\n",
       "      <th>0</th>\n",
       "      <td>Kelseyland</td>\n",
       "      <td>63</td>\n",
       "      <td>Urban</td>\n",
       "    </tr>\n",
       "    <tr>\n",
       "      <th>1</th>\n",
       "      <td>Nguyenbury</td>\n",
       "      <td>8</td>\n",
       "      <td>Urban</td>\n",
       "    </tr>\n",
       "    <tr>\n",
       "      <th>2</th>\n",
       "      <td>East Douglas</td>\n",
       "      <td>12</td>\n",
       "      <td>Urban</td>\n",
       "    </tr>\n",
       "    <tr>\n",
       "      <th>3</th>\n",
       "      <td>West Dawnfurt</td>\n",
       "      <td>34</td>\n",
       "      <td>Urban</td>\n",
       "    </tr>\n",
       "    <tr>\n",
       "      <th>4</th>\n",
       "      <td>Rodriguezburgh</td>\n",
       "      <td>52</td>\n",
       "      <td>Urban</td>\n",
       "    </tr>\n",
       "  </tbody>\n",
       "</table>\n",
       "</div>"
      ],
      "text/plain": [
       "             city  driver_count   type\n",
       "0      Kelseyland            63  Urban\n",
       "1      Nguyenbury             8  Urban\n",
       "2    East Douglas            12  Urban\n",
       "3   West Dawnfurt            34  Urban\n",
       "4  Rodriguezburgh            52  Urban"
      ]
     },
     "execution_count": 54,
     "metadata": {},
     "output_type": "execute_result"
    }
   ],
   "source": [
    "# Change file to a df\n",
    "# Print first 5 rows of df\n",
    "\n",
    "city_df = pd.read_csv(city_file)\n",
    "city_df.head()"
   ]
  },
  {
   "cell_type": "code",
   "execution_count": 55,
   "metadata": {},
   "outputs": [
    {
     "data": {
      "text/html": [
       "<div>\n",
       "<style>\n",
       "    .dataframe thead tr:only-child th {\n",
       "        text-align: right;\n",
       "    }\n",
       "\n",
       "    .dataframe thead th {\n",
       "        text-align: left;\n",
       "    }\n",
       "\n",
       "    .dataframe tbody tr th {\n",
       "        vertical-align: top;\n",
       "    }\n",
       "</style>\n",
       "<table border=\"1\" class=\"dataframe\">\n",
       "  <thead>\n",
       "    <tr style=\"text-align: right;\">\n",
       "      <th></th>\n",
       "      <th>city</th>\n",
       "      <th>date</th>\n",
       "      <th>fare</th>\n",
       "      <th>ride_id</th>\n",
       "    </tr>\n",
       "  </thead>\n",
       "  <tbody>\n",
       "    <tr>\n",
       "      <th>0</th>\n",
       "      <td>Sarabury</td>\n",
       "      <td>2016-01-16 13:49:27</td>\n",
       "      <td>38.35</td>\n",
       "      <td>5403689035038</td>\n",
       "    </tr>\n",
       "    <tr>\n",
       "      <th>1</th>\n",
       "      <td>South Roy</td>\n",
       "      <td>2016-01-02 18:42:34</td>\n",
       "      <td>17.49</td>\n",
       "      <td>4036272335942</td>\n",
       "    </tr>\n",
       "    <tr>\n",
       "      <th>2</th>\n",
       "      <td>Wiseborough</td>\n",
       "      <td>2016-01-21 17:35:29</td>\n",
       "      <td>44.18</td>\n",
       "      <td>3645042422587</td>\n",
       "    </tr>\n",
       "    <tr>\n",
       "      <th>3</th>\n",
       "      <td>Spencertown</td>\n",
       "      <td>2016-07-31 14:53:22</td>\n",
       "      <td>6.87</td>\n",
       "      <td>2242596575892</td>\n",
       "    </tr>\n",
       "    <tr>\n",
       "      <th>4</th>\n",
       "      <td>Nguyenbury</td>\n",
       "      <td>2016-07-09 04:42:44</td>\n",
       "      <td>6.28</td>\n",
       "      <td>1543057793673</td>\n",
       "    </tr>\n",
       "  </tbody>\n",
       "</table>\n",
       "</div>"
      ],
      "text/plain": [
       "          city                 date   fare        ride_id\n",
       "0     Sarabury  2016-01-16 13:49:27  38.35  5403689035038\n",
       "1    South Roy  2016-01-02 18:42:34  17.49  4036272335942\n",
       "2  Wiseborough  2016-01-21 17:35:29  44.18  3645042422587\n",
       "3  Spencertown  2016-07-31 14:53:22   6.87  2242596575892\n",
       "4   Nguyenbury  2016-07-09 04:42:44   6.28  1543057793673"
      ]
     },
     "execution_count": 55,
     "metadata": {},
     "output_type": "execute_result"
    }
   ],
   "source": [
    "# Change file to a df\n",
    "# Print first 5 rows of df\n",
    "\n",
    "ride_df = pd.read_csv(ride_file)\n",
    "ride_df.head()"
   ]
  },
  {
   "cell_type": "markdown",
   "metadata": {},
   "source": [
    "<h4>Part Two: Get what you need</h4>\n",
    "\n",
    "<ul>\n",
    "    <li>Drop duplicate columns and resave to assigned variable</li>\n",
    "    <li>Merge the two DataFrames</li>\n",
    "    <li>Establish color palette</li>\n",
    "</ul>"
   ]
  },
  {
   "cell_type": "code",
   "execution_count": 56,
   "metadata": {
    "collapsed": true
   },
   "outputs": [],
   "source": [
    "# Drop a duplicate record with same city name, same ride_ids but different # of drivers\n",
    "# Save as city_df\n",
    "\n",
    "city_df = city_df.drop_duplicates('city', keep = 'first')\n",
    "\n",
    "# Merge the two dfs\n",
    "merged_df = city_df.merge(ride_df, on = 'city')"
   ]
  },
  {
   "cell_type": "code",
   "execution_count": 57,
   "metadata": {},
   "outputs": [
    {
     "data": {
      "text/html": [
       "<div>\n",
       "<style>\n",
       "    .dataframe thead tr:only-child th {\n",
       "        text-align: right;\n",
       "    }\n",
       "\n",
       "    .dataframe thead th {\n",
       "        text-align: left;\n",
       "    }\n",
       "\n",
       "    .dataframe tbody tr th {\n",
       "        vertical-align: top;\n",
       "    }\n",
       "</style>\n",
       "<table border=\"1\" class=\"dataframe\">\n",
       "  <thead>\n",
       "    <tr style=\"text-align: right;\">\n",
       "      <th></th>\n",
       "      <th>city</th>\n",
       "      <th>driver_count</th>\n",
       "      <th>type</th>\n",
       "      <th>date</th>\n",
       "      <th>fare</th>\n",
       "      <th>ride_id</th>\n",
       "    </tr>\n",
       "  </thead>\n",
       "  <tbody>\n",
       "    <tr>\n",
       "      <th>0</th>\n",
       "      <td>Kelseyland</td>\n",
       "      <td>63</td>\n",
       "      <td>Urban</td>\n",
       "      <td>2016-08-19 04:27:52</td>\n",
       "      <td>5.51</td>\n",
       "      <td>6246006544795</td>\n",
       "    </tr>\n",
       "    <tr>\n",
       "      <th>1</th>\n",
       "      <td>Kelseyland</td>\n",
       "      <td>63</td>\n",
       "      <td>Urban</td>\n",
       "      <td>2016-04-17 06:59:50</td>\n",
       "      <td>5.54</td>\n",
       "      <td>7466473222333</td>\n",
       "    </tr>\n",
       "    <tr>\n",
       "      <th>2</th>\n",
       "      <td>Kelseyland</td>\n",
       "      <td>63</td>\n",
       "      <td>Urban</td>\n",
       "      <td>2016-05-04 15:06:07</td>\n",
       "      <td>30.54</td>\n",
       "      <td>2140501382736</td>\n",
       "    </tr>\n",
       "    <tr>\n",
       "      <th>3</th>\n",
       "      <td>Kelseyland</td>\n",
       "      <td>63</td>\n",
       "      <td>Urban</td>\n",
       "      <td>2016-01-25 20:44:56</td>\n",
       "      <td>12.08</td>\n",
       "      <td>1896987891309</td>\n",
       "    </tr>\n",
       "    <tr>\n",
       "      <th>4</th>\n",
       "      <td>Kelseyland</td>\n",
       "      <td>63</td>\n",
       "      <td>Urban</td>\n",
       "      <td>2016-08-09 18:19:47</td>\n",
       "      <td>17.91</td>\n",
       "      <td>8784212854829</td>\n",
       "    </tr>\n",
       "  </tbody>\n",
       "</table>\n",
       "</div>"
      ],
      "text/plain": [
       "         city  driver_count   type                 date   fare        ride_id\n",
       "0  Kelseyland            63  Urban  2016-08-19 04:27:52   5.51  6246006544795\n",
       "1  Kelseyland            63  Urban  2016-04-17 06:59:50   5.54  7466473222333\n",
       "2  Kelseyland            63  Urban  2016-05-04 15:06:07  30.54  2140501382736\n",
       "3  Kelseyland            63  Urban  2016-01-25 20:44:56  12.08  1896987891309\n",
       "4  Kelseyland            63  Urban  2016-08-09 18:19:47  17.91  8784212854829"
      ]
     },
     "execution_count": 57,
     "metadata": {},
     "output_type": "execute_result"
    }
   ],
   "source": [
    "# Print first 5 rows of new df\n",
    "\n",
    "merged_df.head()"
   ]
  },
  {
   "cell_type": "code",
   "execution_count": 78,
   "metadata": {},
   "outputs": [
    {
     "data": {
      "image/png": "[encoded data removed]",
      "text/plain": [
       "<matplotlib.figure.Figure at 0x1a1fa8d860>"
      ]
     },
     "metadata": {},
     "output_type": "display_data"
    }
   ],
   "source": [
    "# Establish the color scheme and saved it as a dictionary\n",
    "# Use the palette function to set and preview the color scheme\n",
    "\n",
    "color_scheme = {'Gold':'#FFD700', 'Light Sky Blue':'#87CEFA', 'Light Coral':'#F08080'}\n",
    "sns.palplot(sns.color_palette(color_scheme.values()))\n",
    "plt.show()"
   ]
  },
  {
   "cell_type": "markdown",
   "metadata": {},
   "source": [
    "<h4>Part Three: Gather your data </h4>\n",
    "\n",
    "<ul>\n",
    "    <li>Gather requested data</li>\n",
    "    <li>Assign information to new variables</li>\n",
    "    <li>Create a new DataFrame</li>\n",
    "    <li>Sort based on Number of Drivers</li>\n",
    "</ul>"
   ]
  },
  {
   "cell_type": "code",
   "execution_count": 80,
   "metadata": {
    "collapsed": true
   },
   "outputs": [],
   "source": [
    "# Group merged_df be city name\n",
    "city_grouped = merged_df.groupby('city')"
   ]
  },
  {
   "cell_type": "code",
   "execution_count": 81,
   "metadata": {
    "collapsed": true
   },
   "outputs": [],
   "source": [
    "# Found the average fare of the city_grouped\n",
    "# Assigned the mean to a new variable to hold the average fare by city\n",
    "avg_fare = city_grouped.mean()['fare']"
   ]
  },
  {
   "cell_type": "code",
   "execution_count": 82,
   "metadata": {
    "collapsed": true
   },
   "outputs": [],
   "source": [
    "# Found the count of ride_id of the city_grouped\n",
    "# Assigned the count to a new variable to hold the ride count\n",
    "ride_count = city_grouped['ride_id'].count()"
   ]
  },
  {
   "cell_type": "code",
   "execution_count": 83,
   "metadata": {},
   "outputs": [],
   "source": [
    "# Found the average of drivers of the city_grouped\n",
    "# Assigned the mean to a new variable to hold the number of drivers\n",
    "drive_count = city_grouped.mean()['driver_count']"
   ]
  },
  {
   "cell_type": "code",
   "execution_count": 84,
   "metadata": {
    "collapsed": true
   },
   "outputs": [],
   "source": [
    "# Reset the index for city_df based on city and type\n",
    "# Assigned the the reset to hold data\n",
    "\n",
    "city_type = city_df.set_index('city')['type']"
   ]
  },
  {
   "cell_type": "code",
   "execution_count": 85,
   "metadata": {},
   "outputs": [],
   "source": [
    "# Create a dataframe from above information\n",
    "city_info = pd.DataFrame({\n",
    "    \"Number of Rides\": ride_count,\n",
    "    \"Average Fare\": avg_fare,\n",
    "    \"Number of Drivers\": drive_count,\n",
    "    \"Type of City\": city_type\n",
    "})"
   ]
  },
  {
   "cell_type": "code",
   "execution_count": 89,
   "metadata": {},
   "outputs": [
    {
     "data": {
      "text/html": [
       "<div>\n",
       "<style>\n",
       "    .dataframe thead tr:only-child th {\n",
       "        text-align: right;\n",
       "    }\n",
       "\n",
       "    .dataframe thead th {\n",
       "        text-align: left;\n",
       "    }\n",
       "\n",
       "    .dataframe tbody tr th {\n",
       "        vertical-align: top;\n",
       "    }\n",
       "</style>\n",
       "<table border=\"1\" class=\"dataframe\">\n",
       "  <thead>\n",
       "    <tr style=\"text-align: right;\">\n",
       "      <th></th>\n",
       "      <th>Average Fare</th>\n",
       "      <th>Number of Drivers</th>\n",
       "      <th>Number of Rides</th>\n",
       "      <th>Type of City</th>\n",
       "    </tr>\n",
       "  </thead>\n",
       "  <tbody>\n",
       "    <tr>\n",
       "      <th>Alvarezhaven</th>\n",
       "      <td>23.928710</td>\n",
       "      <td>21.0</td>\n",
       "      <td>31</td>\n",
       "      <td>Urban</td>\n",
       "    </tr>\n",
       "    <tr>\n",
       "      <th>Alyssaberg</th>\n",
       "      <td>20.609615</td>\n",
       "      <td>67.0</td>\n",
       "      <td>26</td>\n",
       "      <td>Urban</td>\n",
       "    </tr>\n",
       "    <tr>\n",
       "      <th>Anitamouth</th>\n",
       "      <td>37.315556</td>\n",
       "      <td>16.0</td>\n",
       "      <td>9</td>\n",
       "      <td>Suburban</td>\n",
       "    </tr>\n",
       "    <tr>\n",
       "      <th>Antoniomouth</th>\n",
       "      <td>23.625000</td>\n",
       "      <td>21.0</td>\n",
       "      <td>22</td>\n",
       "      <td>Urban</td>\n",
       "    </tr>\n",
       "    <tr>\n",
       "      <th>Aprilchester</th>\n",
       "      <td>21.981579</td>\n",
       "      <td>49.0</td>\n",
       "      <td>19</td>\n",
       "      <td>Urban</td>\n",
       "    </tr>\n",
       "  </tbody>\n",
       "</table>\n",
       "</div>"
      ],
      "text/plain": [
       "              Average Fare  Number of Drivers  Number of Rides Type of City\n",
       "Alvarezhaven     23.928710               21.0               31        Urban\n",
       "Alyssaberg       20.609615               67.0               26        Urban\n",
       "Anitamouth       37.315556               16.0                9     Suburban\n",
       "Antoniomouth     23.625000               21.0               22        Urban\n",
       "Aprilchester     21.981579               49.0               19        Urban"
      ]
     },
     "execution_count": 89,
     "metadata": {},
     "output_type": "execute_result"
    }
   ],
   "source": [
    "# Sort your new dataframe appropriately \n",
    "# Print the new dataframe\n",
    "city_info.sort_values('Number of Drivers', ascending = False)\n",
    "city_info.head()"
   ]
  },
  {
   "cell_type": "markdown",
   "metadata": {},
   "source": [
    "<h4>Part Four: Create the Bubble Chart</h4>\n",
    "\n",
    "<ul>\n",
    "    <li>Seperate out the DataFrames by city category</li>\n",
    "    <li>Set-Up your colors and plot your scatter plots</li>\n",
    "    <li>Label your title, x-axis, and y-axis</li>\n",
    "    <li>Create your legend</li>\n",
    "</ul>"
   ]
  },
  {
   "cell_type": "code",
   "execution_count": 87,
   "metadata": {
    "collapsed": true
   },
   "outputs": [],
   "source": [
    "# Now, created separated dataframes for city categories\n",
    "rural = city_info[city_info['Type of City'] == 'Rural']\n",
    "suburban = city_info[city_info['Type of City'] == 'Suburban']\n",
    "urban = city_info[city_info['Type of City'] == 'Urban']"
   ]
  },
  {
   "cell_type": "code",
   "execution_count": 88,
   "metadata": {},
   "outputs": [
    {
     "data": {
      "image/png": "[encoded data removed]",
      "text/plain": [
       "<matplotlib.figure.Figure at 0x1a1fd6e390>"
      ]
     },
     "metadata": {},
     "output_type": "display_data"
    }
   ],
   "source": [
    "# Establish Color \n",
    "city_colors = {'Urban': color_scheme['Gold'], 'Suburban': color_scheme['Light Sky Blue'], \n",
    "               'Rural': color_scheme['Light Coral']}\n",
    "\n",
    "# Prints the bubble plot Note\n",
    "plt.suptitle('Pyber Ride Sharing Data')\n",
    "\n",
    "# Create three scatter plots for each city type\n",
    "plt.scatter(rural['Number of Rides'], rural['Average Fare'], s = rural['Number of Drivers']*10, \n",
    "            color = city_colors['Rural'], edgecolor = 'black', label = 'Rural', alpha = .75)\n",
    "plt.scatter(suburban['Number of Rides'], suburban['Average Fare'], s = suburban['Number of Drivers']*10, \n",
    "            color = city_colors['Suburban'], edgecolor = 'black', label = 'Suburban', alpha = .75)\n",
    "plt.scatter(urban['Number of Rides'], urban['Average Fare'], s = urban['Number of Drivers']*10, \n",
    "            color = city_colors['Urban'], edgecolor = 'black', label = 'Urban', alpha = .75)\n",
    "\n",
    "# Next, print scatter plot with labeled x- and y-axis, as well as title\n",
    "plt.title('Note : Size of Bubble Corresponds to Number of Drivers per City')\n",
    "plt.xlabel('Rides per City')\n",
    "plt.ylabel('Average Fare Price per City')\n",
    "\n",
    "\n",
    "# Creates the scatter plot legend\n",
    "lgnd = plt.legend(frameon = True, edgecolor = 'white')\n",
    "lgnd.legendHandles[0]._sizes = [75]\n",
    "lgnd.legendHandles[1]._sizes = [75]\n",
    "lgnd.legendHandles[2]._sizes = [75]\n",
    "\n",
    "# Shows Bubble Plot\n",
    "plt.show()"
   ]
  },
  {
   "cell_type": "markdown",
   "metadata": {},
   "source": [
    "<h4>Part Five: Fares by City Type</h4>\n",
    "\n",
    "<ul>\n",
    "    <li>Re-Group data and find the total average fare</li>\n",
    "    <li>Set-Up your colors and plot your scatter plots</li>\n",
    "    <li>Set the explode values</li>\n",
    "    <li>Label your pie chart</li>\n",
    "    <li>Plot the chart</li>\n",
    "</ul>"
   ]
  },
  {
   "cell_type": "code",
   "execution_count": 75,
   "metadata": {},
   "outputs": [
    {
     "data": {
      "image/png": "[encoded data removed]",
      "text/plain": [
       "<matplotlib.figure.Figure at 0x1a1fb4dda0>"
      ]
     },
     "metadata": {},
     "output_type": "display_data"
    }
   ],
   "source": [
    "# Next, group by type to be used by all pie charts\n",
    "by_type = merged_df.groupby('type')['type', 'fare', 'ride_id', 'driver_count']\n",
    "\n",
    "# Find the total fare by city\n",
    "sum_fare = by_type.sum()['fare']\n",
    "\n",
    "# set your labels pie chart build\n",
    "labels = sum_fare.index\n",
    "\n",
    "#colors and exploe the same for all pie charts, reference here\n",
    "colors = [city_colors[n] for n in labels]\n",
    "explode = [.1 , .1, .1]\n",
    "plt.pie(sum_fare, startangle = 90, colors = colors, explode = explode, labels = labels, autopct = \"%1.1f%%\", \n",
    "        shadow = True, wedgeprops = {'linewidth': .8, 'edgecolor': 'grey'})\n",
    "\n",
    "#pie chart display\n",
    "plt.title('% of Total Fares by City Type')\n",
    "plt.axis('equal')\n",
    "plt.show()"
   ]
  },
  {
   "cell_type": "markdown",
   "metadata": {},
   "source": [
    "<h4>Part Six: Rides by City Type</h4>\n",
    "\n",
    "<ul>\n",
    "    <li>Using the previous data, cunt the number of rides by ride_id</li>\n",
    "    <li>Set-Up your colors and plot your scatter plots (from previous portion of code)</li>\n",
    "    <li>Set the explode values (from previous portion of code)</li>\n",
    "    <li>Label your pie chart</li>\n",
    "    <li>Plot the chart</li>\n",
    "</ul>"
   ]
  },
  {
   "cell_type": "code",
   "execution_count": 76,
   "metadata": {},
   "outputs": [
    {
     "data": {
      "image/png": "[encoded data removed]",
      "text/plain": [
       "<matplotlib.figure.Figure at 0x1a170a7198>"
      ]
     },
     "metadata": {},
     "output_type": "display_data"
    }
   ],
   "source": [
    "# number of ride per city type\n",
    "ride_sum = by_type.count()['ride_id']\n",
    "\n",
    "labels = ride_sum.index\n",
    "plt.pie(ride_sum, startangle = 90, explode = explode, colors = colors, labels = labels, \n",
    "        autopct = \"%1.1f%%\", shadow = True, wedgeprops = {'linewidth': .9, 'edgecolor': 'grey'})\n",
    "plt.title('% of Total Rides by City Type')\n",
    "plt.axis('equal')\n",
    "plt.show()"
   ]
  },
  {
   "cell_type": "markdown",
   "metadata": {},
   "source": [
    "<h4>Part Seven: Drivers by City Type</h4>\n",
    "\n",
    "<ul>\n",
    "    <li>Using the previous data, cunt the number of rides by ride_id</li>\n",
    "    <li>Set-Up your colors and plot your scatter plots (from previous portion of code)</li>\n",
    "    <li>Set the explode values (from previous portion of code)</li>\n",
    "    <li>Label your pie chart</li>\n",
    "    <li>Plot the chart</li>\n",
    "</ul>"
   ]
  },
  {
   "cell_type": "code",
   "execution_count": 77,
   "metadata": {},
   "outputs": [
    {
     "data": {
      "image/png": "[encoded data removed]",
      "text/plain": [
       "<matplotlib.figure.Figure at 0x1a17049470>"
      ]
     },
     "metadata": {},
     "output_type": "display_data"
    }
   ],
   "source": [
    "# of driver per city type\n",
    "driver_sum = by_type.sum()['driver_count']\n",
    "\n",
    "labels = driver_sum.index\n",
    "plt.pie(driver_sum, startangle = 125, explode = explode, colors = colors, \n",
    "        labels = labels, autopct = \"%1.1f%%\", wedgeprops = {'linewidth': .5, 'edgecolor': 'black'})\n",
    "plt.title('% of Total Drivers by City Type')\n",
    "plt.axis('equal')\n",
    "plt.show()"
   ]
  },
  {
   "cell_type": "markdown",
   "metadata": {},
   "source": [
    "<h3>As final considerations:</h3>\n",
    "<ul>\n",
    "<li>You must use the Pandas Library and the Jupyter Notebook.</li>\n",
    "<li>You must use the Matplotlib and Seaborn libraries.</li>\n",
    "<li>You must include a written description of three observable trends based on the data.</li>\n",
    "<li>You must use proper labeling of your plots, including aspects like: Plot Titles, Axes Labels, Legend Labels, Wedge Percentages, and Wedge Labels.</li>\n",
    "<li>Remember when making your plots to consider aesthetics!\n",
    "<li>You must stick to the Pyber color scheme (Gold, Light Sky Blue, and Light Coral) in producing your plot and pie charts.</li>\n",
    "<li>When making your Bubble Plot, experiment with effects like `alpha`, `edgecolor`, and `linewidths`.</li>\n",
    "<li>When making your Pie Chart, experiment with effects like `shadow`, `startangle`, and `explosion`.</li>\n",
    "<li>You must include an exported markdown version of your Notebook called  `README.md` in your GitHub repository.</li>\n",
    "<li>See Example Solution for a reference on expected format.</li>\n",
    "</ul>"
   ]
  },
  {
   "cell_type": "markdown",
   "metadata": {},
   "source": [
    "<h3>Observations and Analysis</h3>"
   ]
  },
  {
   "cell_type": "markdown",
   "metadata": {},
   "source": [
    "You must include a written description of three observable trends based on the data.<br>\n",
    "\n",
    "<ul>\n",
    "    <li>For all three pie charts, we can see the greatest numbers are from urban areas. This is also reflected in our bubble chart.</li>\n",
    "    <li>Similarly, the least amount of Pyber data is from rural areas.</li>\n",
    "    <li>While urban areas have more rides per city, rural and suburban areas have a higher fave average.</li>\n",
    "</ul>"
   ]
  },
  {
   "cell_type": "code",
   "execution_count": null,
   "metadata": {
    "collapsed": true
   },
   "outputs": [],
   "source": []
  }
 ],
 "metadata": {
  "kernelspec": {
   "display_name": "Python 3",
   "language": "python",
   "name": "python3"
  },
  "language_info": {
   "codemirror_mode": {
    "name": "ipython",
    "version": 3
   },
   "file_extension": ".py",
   "mimetype": "text/x-python",
   "name": "python",
   "nbconvert_exporter": "python",
   "pygments_lexer": "ipython3",
   "version": "3.6.3"
  }
 },
 "nbformat": 4,
 "nbformat_minor": 2
}
